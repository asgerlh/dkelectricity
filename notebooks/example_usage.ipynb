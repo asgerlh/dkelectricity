{
  "cells": [
    {
      "cell_type": "code",
      "execution_count": null,
      "metadata": {
        "cellView": "form",
        "id": "py6MIC7yZxpN"
      },
      "outputs": [],
      "source": [
        "import numpy as np\n",
        "import matplotlib.pyplot as plt\n",
        "import calendar\n",
        "from datetime import datetime, timedelta\n",
        "from dkelectricity import DKElectricity\n",
        "\n",
        "# Put your token from eloverblik.dk here\n",
        "token = ''\n",
        "\n",
        "# Or read it from a file\n",
        "if token == '':\n",
        "  with open('eloverblik.token', 'r') as f:\n",
        "    token = f.read()\n",
        "\n",
        "el = DKElectricity(token)"
      ]
    },
    {
      "cell_type": "code",
      "execution_count": null,
      "metadata": {
        "cellView": "form",
        "id": "4r9q-jZiZnOs"
      },
      "outputs": [],
      "source": [
        "# Show data for the past weeks\n",
        "weeks = 1\n",
        "\n",
        "from_date = datetime.today() + timedelta(weeks=-weeks, days=1)\n",
        "to_date = datetime.today() + timedelta(days=1) # One day into the future to get next day prices\n",
        "\n",
        "# Add one day, as both eloverblik and energidataservice APIs don't include end date\n",
        "to_date += timedelta(days=1)"
      ]
    },
    {
      "cell_type": "code",
      "execution_count": null,
      "metadata": {
        "cellView": "form",
        "colab": {
          "base_uri": "https://localhost:8080/",
          "height": 407
        },
        "id": "kVrcaiwtnGbI",
        "outputId": "9f877d13-56ee-46f4-9976-ba3201e69cc4"
      },
      "outputs": [],
      "source": [
        "# Electricity prices (average over weeks)\n",
        "\n",
        "prices = el.get_prices(from_date, to_date)\n",
        "\n",
        "# Add some usefull columns\n",
        "prices['Date'] = prices.index.date\n",
        "prices['Hour'] = prices.index.hour\n",
        "prices['Weekday'] = prices.index.dayofweek\n",
        "\n",
        "# Separate last day (probably the future)\n",
        "last_date = prices['Date'].iloc[-1]\n",
        "price_last = prices[prices['Date'] == last_date]\n",
        "prices.drop(price_last.index, inplace=True)\n",
        "price_last.set_index('Hour', inplace=True)\n",
        "\n",
        "ax = prices.groupby(['Hour'])['Price'].mean().plot.bar(label='Avg', color='lightgray', figsize=(10,6))\n",
        "\n",
        "ax.hlines(prices['Price'].mean(), -1, 24, color='gray', label='Avg')\n",
        "\n",
        "color = np.flipud(plt.cm.gist_rainbow(np.linspace(0, 1, 7)))\n",
        "\n",
        "for weekday, price in prices[['Weekday', 'Hour', 'Price']].groupby(['Hour', 'Weekday']).mean().groupby('Weekday'):\n",
        "  ax.plot(price.index.get_level_values('Hour').values,\n",
        "          price['Price'],\n",
        "          label=calendar.day_abbr[weekday],\n",
        "          marker='o',\n",
        "          color=color[weekday])\n",
        "\n",
        "ax.plot(price_last.index.get_level_values('Hour').values,\n",
        "        price_last['Price'],\n",
        "        label=last_date.strftime('%-d/%-m'),\n",
        "        marker='o',\n",
        "        color='k',\n",
        "        linewidth=3)\n",
        "\n",
        "el.tariffs['Tariff'].plot.bar(label='Tariffs', color='darkgray')\n",
        "\n",
        "ax.legend()\n",
        "ax.set_title(f\"Electricity prices, Avg: {prices['Price'].mean():.2f} DKK/kWh, {prices['Date'].iloc[0].strftime('%Y-%m-%d')} - {prices['Date'].iloc[-1].strftime('%Y-%m-%d')}\")\n",
        "ax.set_ylabel('Price [DKK/kWh]')\n",
        "ax.grid(axis='y')\n",
        "ax.tick_params(axis='x', labelrotation = 90)"
      ]
    },
    {
      "cell_type": "code",
      "execution_count": null,
      "metadata": {
        "cellView": "form",
        "colab": {
          "base_uri": "https://localhost:8080/",
          "height": 407
        },
        "id": "u0Z25r5v-BTT",
        "outputId": "ccc14024-0ddb-4624-d785-7987390a31aa"
      },
      "outputs": [],
      "source": [
        "# Electricity consumption\n",
        "\n",
        "consumption = el.get_consumption(from_date, to_date)\n",
        "\n",
        "# Add some usefull columns\n",
        "consumption['Date'] = consumption.index.date\n",
        "consumption['Hour'] = consumption.index.hour\n",
        "consumption['Weekday'] = consumption.index.dayofweek\n",
        "\n",
        "ax = consumption[['Weekday', 'Hour', 'Consumption']].groupby('Hour')['Consumption'].mean().plot.bar(label='Avg', color='lightgray', figsize=(10,6))\n",
        "\n",
        "ax.hlines(consumption['Consumption'].mean(), -1, 24, color='gray', label='Avg')\n",
        "\n",
        "color = np.flipud(plt.cm.gist_rainbow(np.linspace(0, 1, 7)))\n",
        "\n",
        "for weekday, consump in consumption[['Weekday', 'Hour', 'Consumption']].groupby(['Hour', 'Weekday']).mean().groupby('Weekday'):\n",
        "  ax.plot(consump.index.get_level_values('Hour').values,\n",
        "          consump['Consumption'],\n",
        "          label=calendar.day_abbr[weekday],\n",
        "          marker='o',\n",
        "          color=color[weekday])\n",
        "\n",
        "ax.set_title(f\"Consumption @ {el.address}, Avg: {consumption['Consumption'].mean()*24:.1f} kWh/day, {consumption.index[0].strftime('%Y-%m-%d')} - {consumption.index[-1].strftime('%Y-%m-%d')}\")\n",
        "ax.set_ylabel('Consumption [kWh]')\n",
        "ax.legend()\n",
        "ax.grid(axis='y')"
      ]
    }
  ],
  "metadata": {
    "colab": {
      "provenance": []
    },
    "kernelspec": {
      "display_name": ".venv",
      "language": "python",
      "name": "python3"
    },
    "language_info": {
      "codemirror_mode": {
        "name": "ipython",
        "version": 3
      },
      "file_extension": ".py",
      "mimetype": "text/x-python",
      "name": "python",
      "nbconvert_exporter": "python",
      "pygments_lexer": "ipython3",
      "version": "3.11.8"
    },
    "orig_nbformat": 4,
    "vscode": {
      "interpreter": {
        "hash": "a8254591aad0cc5ed838ea588b74f5753c2982dfc496d587805bfef880a18f62"
      }
    }
  },
  "nbformat": 4,
  "nbformat_minor": 0
}
